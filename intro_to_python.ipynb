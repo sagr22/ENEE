{
  "nbformat": 4,
  "nbformat_minor": 0,
  "metadata": {
    "colab": {
      "provenance": [],
      "collapsed_sections": [
        "xAbNTXvykeIC",
        "MyAPMZ8xe4qL",
        "LqQIUMopd30H",
        "W9yLqkFqkaum"
      ],
      "include_colab_link": true
    },
    "kernelspec": {
      "name": "python3",
      "display_name": "Python 3"
    },
    "language_info": {
      "name": "python"
    }
  },
  "cells": [
    {
      "cell_type": "markdown",
      "metadata": {
        "id": "view-in-github",
        "colab_type": "text"
      },
      "source": [
        "<a href=\"https://colab.research.google.com/github/sagr22/ENEE/blob/main/intro_to_python.ipynb\" target=\"_parent\"><img src=\"https://colab.research.google.com/assets/colab-badge.svg\" alt=\"Open In Colab\"/></a>"
      ]
    },
    {
      "cell_type": "markdown",
      "source": [
        "This lab is split into four parts, each focusing on one important aspect of the Python programming language. Appropriate documentation is included in each part for you to reference. With the exception of Task 4, think about how you might solve the problems using MATLAB -- you'll find that solving them using Python is quite similar."
      ],
      "metadata": {
        "id": "jPd7BZmG4e2y"
      }
    },
    {
      "cell_type": "markdown",
      "source": [
        "We will be working with a few different packages in this lab -- these are like the toolboxes you had to keep installing in MATLAB. DO NOT DELETE."
      ],
      "metadata": {
        "id": "xU0KxYlz5Bdf"
      }
    },
    {
      "cell_type": "code",
      "execution_count": null,
      "metadata": {
        "id": "3guyLgx9etrW"
      },
      "outputs": [],
      "source": [
        "import numpy as np\n",
        "import pandas as pd\n",
        "import matplotlib.pyplot as plt\n",
        "import seaborn as sns\n",
        "import random"
      ]
    },
    {
      "cell_type": "markdown",
      "source": [
        "# Task 1: Python Fundamentals\n",
        "Reference: https://docs.python.org/3/"
      ],
      "metadata": {
        "id": "xAbNTXvykeIC"
      }
    },
    {
      "cell_type": "markdown",
      "source": [
        "Declare a variable called hello_world. Assign to it the string 'hello world!'. Then, print hello_world."
      ],
      "metadata": {
        "id": "wsMiA57Wkh0u"
      }
    },
    {
      "cell_type": "code",
      "source": [
        "hello_world = 'hello world!'\n",
        "print(hello_world)"
      ],
      "metadata": {
        "id": "IG6ieCcIkhOu",
        "colab": {
          "base_uri": "https://localhost:8080/"
        },
        "outputId": "8036b75e-ba76-4631-dcd0-57ef3d00105e"
      },
      "execution_count": null,
      "outputs": [
        {
          "output_type": "stream",
          "name": "stdout",
          "text": [
            "hello world!\n"
          ]
        }
      ]
    },
    {
      "cell_type": "markdown",
      "source": [
        "Declare two variables called num1 and num2; assign to them the values -5 and 7, respectively. Using two separate print statements, print their sum and product."
      ],
      "metadata": {
        "id": "FtDSkV8mwJOb"
      }
    },
    {
      "cell_type": "markdown",
      "source": [],
      "metadata": {
        "id": "727JKncFix5T"
      }
    },
    {
      "cell_type": "code",
      "source": [
        "num1 = -5\n",
        "num2 = 7\n",
        "print(num1)\n",
        "print(num2)"
      ],
      "metadata": {
        "id": "8VQD4ZDKwHA7",
        "colab": {
          "base_uri": "https://localhost:8080/"
        },
        "outputId": "44c25427-137c-4788-86c0-62c100120079"
      },
      "execution_count": null,
      "outputs": [
        {
          "output_type": "stream",
          "name": "stdout",
          "text": [
            "-5\n",
            "7\n"
          ]
        }
      ]
    },
    {
      "cell_type": "markdown",
      "source": [
        "Declare four variables a, b, c, and d; assign to them the boolean values True, False, True, and True, respectively. Using four separate print statements, print the result of the following boolean expressions:\n",
        "\n",
        "\n",
        "*   a AND b OR c AND (NOT d)\n",
        "*   (a OR b) AND (b OR c) AND NOT (c AND d)\n",
        "*   a AND c\n",
        "*   b OR (NOT c) OR (NOT a)\n",
        "\n",
        "*hint:\n",
        "AND = &,\n",
        "OR = |,\n",
        "NOT = not*\n",
        "\n",
        "\n",
        "\n"
      ],
      "metadata": {
        "id": "B1yNRbauwgx3"
      }
    },
    {
      "cell_type": "code",
      "source": [
        "a = True\n",
        "b = False\n",
        "c = True\n",
        "d = True\n",
        "print(a & b)\n",
        "print((a | b) & (b | c) & (c & d))\n",
        "print(a & c)\n",
        "print((b | ~c | ~a))"
      ],
      "metadata": {
        "id": "7tPk_iAAw2zV",
        "colab": {
          "base_uri": "https://localhost:8080/"
        },
        "outputId": "eeef6949-b1a6-42b8-c8dc-7c72f1525dea"
      },
      "execution_count": null,
      "outputs": [
        {
          "output_type": "stream",
          "name": "stdout",
          "text": [
            "False\n",
            "True\n",
            "True\n",
            "-2\n"
          ]
        }
      ]
    },
    {
      "cell_type": "markdown",
      "source": [
        "The cell below generates a random number called rando between 0 and 100. Use an if-elif-else statement to print 'A' if the number is between [0,33], 'B' if the number is between [34, 66], or 'C' if the number is between [67, 100]. You might find it helpful to print out the random number as well to confirm your code's correctness."
      ],
      "metadata": {
        "id": "PEjCpoe2y3Wb"
      }
    },
    {
      "cell_type": "code",
      "source": [
        "rando = random.random()*100\n",
        "if 0 <= rando <= 33:\n",
        "  print('A' , rando);\n",
        "elif 34 <= rando <= 66:\n",
        "  print('B' , rando)\n",
        "else:\n",
        "  print('C' , rando)"
      ],
      "metadata": {
        "id": "7nOiQSONyCWz",
        "colab": {
          "base_uri": "https://localhost:8080/"
        },
        "outputId": "2c713c3e-7c26-4ed7-ea18-58b112c04e0b"
      },
      "execution_count": null,
      "outputs": [
        {
          "output_type": "stream",
          "name": "stdout",
          "text": [
            "B 40.7856520213077\n"
          ]
        }
      ]
    },
    {
      "cell_type": "markdown",
      "source": [
        "Using a for-loop, print out all integers on the interval [0, 5]."
      ],
      "metadata": {
        "id": "q7t1wCYM0CMp"
      }
    },
    {
      "cell_type": "code",
      "source": [
        "for a in range(0,6):\n",
        "  print(a)"
      ],
      "metadata": {
        "id": "lZjkeNTk0QOz",
        "colab": {
          "base_uri": "https://localhost:8080/"
        },
        "outputId": "82697fa5-f6a1-4666-d9fd-c23049c3b6be"
      },
      "execution_count": null,
      "outputs": [
        {
          "output_type": "stream",
          "name": "stdout",
          "text": [
            "0\n",
            "1\n",
            "2\n",
            "3\n",
            "4\n",
            "5\n"
          ]
        }
      ]
    },
    {
      "cell_type": "markdown",
      "source": [
        "Using a for-loop, print out all odd integers on the interval [3, 18]."
      ],
      "metadata": {
        "id": "n9IUS-Iy0WG2"
      }
    },
    {
      "cell_type": "code",
      "source": [
        "for a in range(3,18,2):\n",
        "  print(a)"
      ],
      "metadata": {
        "id": "mVgKNXl_0T3f",
        "colab": {
          "base_uri": "https://localhost:8080/"
        },
        "outputId": "9f8a5bdf-8679-4158-a2db-1713e7a9f9de"
      },
      "execution_count": null,
      "outputs": [
        {
          "output_type": "stream",
          "name": "stdout",
          "text": [
            "3\n",
            "5\n",
            "7\n",
            "9\n",
            "11\n",
            "13\n",
            "15\n",
            "17\n"
          ]
        }
      ]
    },
    {
      "cell_type": "markdown",
      "source": [
        "\n",
        "\n",
        "```\n",
        "# This is formatted as code\n",
        "```\n",
        "\n",
        "The cell below defines a list call list1 containing ten integers. Using a for-each-loop, print the integers in list1 that exceed 42."
      ],
      "metadata": {
        "id": "4FVNxqZp0nQs"
      }
    },
    {
      "cell_type": "code",
      "source": [
        "list1 = [0, 14, 99, 75, 41, 42, 65, 108, 44, 19]\n",
        "for a in list1:\n",
        "  if a > 42:\n",
        "    print(a)"
      ],
      "metadata": {
        "id": "4Mt_ny9I0jol",
        "colab": {
          "base_uri": "https://localhost:8080/"
        },
        "outputId": "10eb7a8f-c5ed-4e32-e591-8cacd64a8256"
      },
      "execution_count": null,
      "outputs": [
        {
          "output_type": "stream",
          "name": "stdout",
          "text": [
            "99\n",
            "75\n",
            "65\n",
            "108\n",
            "44\n"
          ]
        }
      ]
    },
    {
      "cell_type": "markdown",
      "source": [
        "The cell below defines a list called list2 containing five strings. Using a for-each-loop, print out all strings in list that are more than six characters in length."
      ],
      "metadata": {
        "id": "OP7MdslB1F80"
      }
    },
    {
      "cell_type": "code",
      "source": [
        "list2 = ['dog', 'princess', 'ravioli', 'charger', 'gnat']\n",
        "for a in list2:\n",
        "  if len(a) > 6:\n",
        "    print(a)"
      ],
      "metadata": {
        "id": "ngNlx89_1DOs",
        "colab": {
          "base_uri": "https://localhost:8080/"
        },
        "outputId": "f7346c5e-d556-4280-f916-6abc3154eb65"
      },
      "execution_count": null,
      "outputs": [
        {
          "output_type": "stream",
          "name": "stdout",
          "text": [
            "princess\n",
            "ravioli\n",
            "charger\n"
          ]
        }
      ]
    },
    {
      "cell_type": "markdown",
      "source": [
        "# Task 2: Practice with Numpy\n",
        "Reference: https://numpy.org/doc/stable/reference/index.html#reference"
      ],
      "metadata": {
        "id": "MyAPMZ8xe4qL"
      }
    },
    {
      "cell_type": "markdown",
      "source": [
        "Create a Numpy array with the elements 0, 1, 2, 3, 4, and 5, in that order. Assign it to a variable called x. Then, print out x and its shape using a single print statement."
      ],
      "metadata": {
        "id": "X7OlNoYOwmdN"
      }
    },
    {
      "cell_type": "code",
      "source": [
        "x = np.array([0, 1, 2, 3, 4, 5])\n",
        "print(x, x.shape)"
      ],
      "metadata": {
        "id": "E-QmM9MBe1yT",
        "colab": {
          "base_uri": "https://localhost:8080/"
        },
        "outputId": "397e6b25-07b6-4a04-dda6-623a584da398"
      },
      "execution_count": null,
      "outputs": [
        {
          "output_type": "stream",
          "name": "stdout",
          "text": [
            "[0 1 2 3 4 5] (6,)\n"
          ]
        }
      ]
    },
    {
      "cell_type": "markdown",
      "source": [
        "Next, create a 2D Numpy array of size 2x3 -- it should contain the letters A, B, and C in the first row, and the letters X, Y and Z in the second row. Assign it to a variable called alpha_mat. Then, print out alpha_mat and its shape using a single print statement."
      ],
      "metadata": {
        "id": "f4r8yujtf0hY"
      }
    },
    {
      "cell_type": "code",
      "source": [
        "alpha_mat = np.array([['A', 'B', 'C'], ['X', 'Y', 'Z']])\n",
        "print(\"Array: \\n\" , alpha_mat, \"\\nShape:\" ,alpha_mat.shape)"
      ],
      "metadata": {
        "id": "CHtoY2ZJfftw",
        "colab": {
          "base_uri": "https://localhost:8080/"
        },
        "outputId": "02f7c68b-bbb3-45f0-a9bd-cabcd8e3d1a2"
      },
      "execution_count": null,
      "outputs": [
        {
          "output_type": "stream",
          "name": "stdout",
          "text": [
            "Array: \n",
            " [['A' 'B' 'C']\n",
            " ['X' 'Y' 'Z']] \n",
            "Shape: (2, 3)\n"
          ]
        }
      ]
    },
    {
      "cell_type": "markdown",
      "source": [
        "Now, take the array x we've already created, and square each element. Store this new array in a variable called y1. Print out y1."
      ],
      "metadata": {
        "id": "eodSrNNlgu0G"
      }
    },
    {
      "cell_type": "code",
      "source": [
        "y1 = x**2\n",
        "print(y1);"
      ],
      "metadata": {
        "id": "tBvUIyPxhQ7B",
        "colab": {
          "base_uri": "https://localhost:8080/"
        },
        "outputId": "3b80c225-0c00-4cac-a134-92c91cf7606c"
      },
      "execution_count": null,
      "outputs": [
        {
          "output_type": "stream",
          "name": "stdout",
          "text": [
            "[ 0  1  4  9 16 25]\n"
          ]
        }
      ]
    },
    {
      "cell_type": "markdown",
      "source": [
        "Create another Numpy array called y2, and set it equal to the sum of x and y1. Print out y2."
      ],
      "metadata": {
        "id": "rcJviv1rhWdZ"
      }
    },
    {
      "cell_type": "code",
      "source": [
        "y2 = x + y1\n",
        "print(y2)"
      ],
      "metadata": {
        "id": "CCIkngXrhmhU",
        "colab": {
          "base_uri": "https://localhost:8080/"
        },
        "outputId": "efa87912-0889-4d6a-e597-f1ce1b19f202"
      },
      "execution_count": null,
      "outputs": [
        {
          "output_type": "stream",
          "name": "stdout",
          "text": [
            "[ 0  2  6 12 20 30]\n"
          ]
        }
      ]
    },
    {
      "cell_type": "markdown",
      "source": [
        "Concatenate the arrays x, y1, and y2; assign the resulting array to a variable called concat_arr. Print out concat_arr and its size using a single print statement."
      ],
      "metadata": {
        "id": "w_3xZLb6h5yD"
      }
    },
    {
      "cell_type": "markdown",
      "source": [],
      "metadata": {
        "id": "lA3BTCWYg1Pe"
      }
    },
    {
      "cell_type": "code",
      "source": [
        "concat_arr = np.concatenate((x, y1, y2))\n",
        "print(concat_arr, concat_arr.size)"
      ],
      "metadata": {
        "id": "ccbi_T9WiF2G",
        "colab": {
          "base_uri": "https://localhost:8080/"
        },
        "outputId": "48fb5e74-f59e-4c3c-831b-0cdd51bf5375"
      },
      "execution_count": null,
      "outputs": [
        {
          "output_type": "stream",
          "name": "stdout",
          "text": [
            "[ 0  1  2  3  4  5  0  1  4  9 16 25  0  2  6 12 20 30] 18\n"
          ]
        }
      ]
    },
    {
      "cell_type": "markdown",
      "source": [
        "Reshape concat_arr to be a 6x3 matrix; assign the result to a variable called concat_reshaped. Print out concat_reshaped and its shape to confirm that is indeed a 6x3 matrix (in a single print statement)."
      ],
      "metadata": {
        "id": "1eoTyMwviaqj"
      }
    },
    {
      "cell_type": "code",
      "source": [
        "concat_reshaped = concat_arr.reshape(6,3)\n",
        "print(concat_reshaped)"
      ],
      "metadata": {
        "id": "8M0RqeGKi3zh",
        "colab": {
          "base_uri": "https://localhost:8080/"
        },
        "outputId": "760dbe4c-d9fa-4fcd-c19e-c68c17099dc2"
      },
      "execution_count": null,
      "outputs": [
        {
          "output_type": "stream",
          "name": "stdout",
          "text": [
            "[[ 0  1  2]\n",
            " [ 3  4  5]\n",
            " [ 0  1  4]\n",
            " [ 9 16 25]\n",
            " [ 0  2  6]\n",
            " [12 20 30]]\n"
          ]
        }
      ]
    },
    {
      "cell_type": "markdown",
      "source": [
        "Print the element in row 3, column 2 of concat_reshaped. You should access this element programmatically, i.e., do not hardcode '25' in your print statement."
      ],
      "metadata": {
        "id": "5AoUGUpYjEc0"
      }
    },
    {
      "cell_type": "code",
      "source": [
        "print(concat_reshaped[2,1])"
      ],
      "metadata": {
        "id": "iED1xvotjDBh",
        "colab": {
          "base_uri": "https://localhost:8080/"
        },
        "outputId": "5b684f91-c937-4ff5-b6df-95537dc831dc"
      },
      "execution_count": null,
      "outputs": [
        {
          "output_type": "stream",
          "name": "stdout",
          "text": [
            "1\n"
          ]
        }
      ]
    },
    {
      "cell_type": "markdown",
      "source": [
        "Print the entirety of column 1 of concat_reshaped. You should access this column programmatically, i.e., do not hardcode the column elements in your print statement."
      ],
      "metadata": {
        "id": "XZ_xRyefjrLC"
      }
    },
    {
      "cell_type": "code",
      "source": [
        "print(concat_reshaped[:,0])"
      ],
      "metadata": {
        "id": "AQHAc6Zijp8G",
        "colab": {
          "base_uri": "https://localhost:8080/"
        },
        "outputId": "fa64bf5b-5728-4505-ef24-ca4ead63f0e3"
      },
      "execution_count": null,
      "outputs": [
        {
          "output_type": "stream",
          "name": "stdout",
          "text": [
            "[ 0  3  0  9  0 12]\n"
          ]
        }
      ]
    },
    {
      "cell_type": "markdown",
      "source": [
        "Compute the elementwise product of rows 1 and 5 of concat_reshaped. Print the result."
      ],
      "metadata": {
        "id": "o8nW44tykDrU"
      }
    },
    {
      "cell_type": "code",
      "source": [
        "row_1 = concat_reshaped[0, :]\n",
        "row_5 = concat_reshaped[4, :]\n",
        "elementwise_product = row_1 * row_5\n",
        "print(elementwise_product)"
      ],
      "metadata": {
        "id": "yM1Pgc3Xj980",
        "colab": {
          "base_uri": "https://localhost:8080/"
        },
        "outputId": "d2666077-c3d6-4457-9e2f-137d7b9b867b"
      },
      "execution_count": null,
      "outputs": [
        {
          "output_type": "stream",
          "name": "stdout",
          "text": [
            "[ 0  2 12]\n"
          ]
        }
      ]
    },
    {
      "cell_type": "markdown",
      "source": [
        "# Task 3: Visualization with Matplotlib\n",
        "Reference: https://matplotlib.org/stable/plot_types/index.html"
      ],
      "metadata": {
        "id": "LqQIUMopd30H"
      }
    },
    {
      "cell_type": "markdown",
      "source": [
        "We declared vectors x and y1 in Task 2; plot y1 vs. x on a line plot. Be sure to show the figure!"
      ],
      "metadata": {
        "id": "LdZgK60eevoV"
      }
    },
    {
      "cell_type": "code",
      "source": [
        "plt.plot(x, y1)\n",
        "plt.title('Plot of y1 vs x')\n",
        "plt.xlabel('x')\n",
        "plt.ylabel('y1')\n",
        "plt.show()"
      ],
      "metadata": {
        "id": "3FxTk_njd9VK",
        "colab": {
          "base_uri": "https://localhost:8080/",
          "height": 472
        },
        "outputId": "df7afd5d-794f-4699-c2f6-76cae39adcf2"
      },
      "execution_count": null,
      "outputs": [
        {
          "output_type": "display_data",
          "data": {
            "text/plain": [
              "<Figure size 640x480 with 1 Axes>"
            ],
            "image/png": "[encoded data removed]"
          },
          "metadata": {}
        }
      ]
    },
    {
      "cell_type": "markdown",
      "source": [
        "We also delcared a vector y2; plot y1 vs. x AND y2 vs. x on the same scatter plot. Add a legend showing which points correspond to y1 and which points correspond to y2."
      ],
      "metadata": {
        "id": "eN-1lckffRbX"
      }
    },
    {
      "cell_type": "code",
      "source": [
        "plt.scatter(x, y1, color='blue', label='y1 = x²')\n",
        "plt.scatter(x, y2, color='red', label='y2 = x + x²')\n",
        "plt.title('Scatter Plot of y1 and y2 vs x')\n",
        "plt.xlabel('x')\n",
        "plt.ylabel('y values')\n",
        "plt.legend()\n",
        "plt.show()"
      ],
      "metadata": {
        "id": "yLADdYBVfaQr",
        "colab": {
          "base_uri": "https://localhost:8080/",
          "height": 472
        },
        "outputId": "62d8b1ba-626a-4df0-d5c2-d500558ee65b"
      },
      "execution_count": null,
      "outputs": [
        {
          "output_type": "display_data",
          "data": {
            "text/plain": [
              "<Figure size 640x480 with 1 Axes>"
            ],
            "image/png": "[encoded data removed]"
          },
          "metadata": {}
        }
      ]
    },
    {
      "cell_type": "markdown",
      "source": [
        "Declare a time vector called t with spanning 0 to 10 seconds with a step size of 0.001 seconds. Plot the function $f(t)=2sin(8t+3)$ on a line plot. Give the plot an appropriate title, as well as x- and y-axis labels."
      ],
      "metadata": {
        "id": "NaaTrXbpgJc5"
      }
    },
    {
      "cell_type": "code",
      "source": [
        "t = np.arange(0, 10.001, 0.001)\n",
        "\n",
        "f_t = 2 * np.sin(8 * t + 3)\n",
        "\n",
        "plt.plot(t, f_t, 'g-')\n",
        "plt.title('Plot of f(t) = 2sin(8t+3)')\n",
        "plt.xlabel('Time (seconds)')\n",
        "plt.ylabel('Amplitude')\n",
        "plt.show()"
      ],
      "metadata": {
        "id": "pZHOmLQwgHHl",
        "colab": {
          "base_uri": "https://localhost:8080/",
          "height": 472
        },
        "outputId": "6c5b8a41-bd2b-4cfd-9eb8-a1d10d2e93e9"
      },
      "execution_count": null,
      "outputs": [
        {
          "output_type": "display_data",
          "data": {
            "text/plain": [
              "<Figure size 640x480 with 1 Axes>"
            ],
            "image/png": "[encoded data removed]"
          },
          "metadata": {}
        }
      ]
    },
    {
      "cell_type": "markdown",
      "source": [
        "Using the same time vector t declared above, plot the function $g(t)=\\frac{t^2+10t-4}{t^3+2}$. Once again, add an appropriate title, as well as x- and y-axis labels."
      ],
      "metadata": {
        "id": "luc-eLw_hi-u"
      }
    },
    {
      "cell_type": "code",
      "source": [
        "g_t = (t**2 + 10*t - 4)/(t**3 + 2)\n",
        "\n",
        "plt.plot(t, g_t, 'r-')\n",
        "plt.title('Plot of g(t) = t^2 + 10t - 4/t^3 + 2')\n",
        "plt.xlabel('Time (seconds)')\n",
        "plt.ylabel('Amplitude')\n",
        "plt.show()"
      ],
      "metadata": {
        "id": "OkY92_J8iM5i",
        "colab": {
          "base_uri": "https://localhost:8080/",
          "height": 472
        },
        "outputId": "742ba04d-f509-4795-9fd6-dc2d424e3562"
      },
      "execution_count": null,
      "outputs": [
        {
          "output_type": "display_data",
          "data": {
            "text/plain": [
              "<Figure size 640x480 with 1 Axes>"
            ],
            "image/png": "[encoded data removed]"
          },
          "metadata": {}
        }
      ]
    },
    {
      "cell_type": "markdown",
      "source": [
        "# Task 4: Introduction to Pandas\n",
        "Reference: https://pandas.pydata.org/docs/reference/index.html#api"
      ],
      "metadata": {
        "id": "W9yLqkFqkaum"
      }
    },
    {
      "cell_type": "markdown",
      "source": [
        "The cell below retrieves an example Pandas DataFrame for us to work with. DO NOT DELETE OR ALTER!"
      ],
      "metadata": {
        "id": "s8FDaxce1xrU"
      }
    },
    {
      "cell_type": "code",
      "source": [
        "vehicle_df = sns.load_dataset('mpg')\n",
        "vehicle_df"
      ],
      "metadata": {
        "colab": {
          "base_uri": "https://localhost:8080/",
          "height": 2258
        },
        "id": "SzKhF0z-kd3D",
        "outputId": "e26f01fc-d53c-401d-95ae-273d9f1df07d"
      },
      "execution_count": null,
      "outputs": [
        {
          "output_type": "execute_result",
          "data": {
            "text/plain": [
              "      mpg  cylinders  displacement  horsepower  weight  acceleration  \\\n",
              "0    18.0          8         307.0       130.0    3504          12.0   \n",
              "1    15.0          8         350.0       165.0    3693          11.5   \n",
              "2    18.0          8         318.0       150.0    3436          11.0   \n",
              "3    16.0          8         304.0       150.0    3433          12.0   \n",
              "4    17.0          8         302.0       140.0    3449          10.5   \n",
              "..    ...        ...           ...         ...     ...           ...   \n",
              "393  27.0          4         140.0        86.0    2790          15.6   \n",
              "394  44.0          4          97.0        52.0    2130          24.6   \n",
              "395  32.0          4         135.0        84.0    2295          11.6   \n",
              "396  28.0          4         120.0        79.0    2625          18.6   \n",
              "397  31.0          4         119.0        82.0    2720          19.4   \n",
              "\n",
              "     model_year  origin                       name  \n",
              "0            70     usa  chevrolet chevelle malibu  \n",
              "1            70     usa          buick skylark 320  \n",
              "2            70     usa         plymouth satellite  \n",
              "3            70     usa              amc rebel sst  \n",
              "4            70     usa                ford torino  \n",
              "..          ...     ...                        ...  \n",
              "393          82     usa            ford mustang gl  \n",
              "394          82  europe                  vw pickup  \n",
              "395          82     usa              dodge rampage  \n",
              "396          82     usa                ford ranger  \n",
              "397          82     usa                 chevy s-10  \n",
              "\n",
              "[398 rows x 9 columns]"
            ],
            "text/html": [
              "\n",
              "  <div id=\"df-12ea246d-68bb-48fa-996b-a08df617221b\" class=\"colab-df-container\">\n",
              "    <div>\n",
              "<style scoped>\n",
              "    .dataframe tbody tr th:only-of-type {\n",
              "        vertical-align: middle;\n",
              "    }\n",
              "\n",
              "    .dataframe tbody tr th {\n",
              "        vertical-align: top;\n",
              "    }\n",
              "\n",
              "    .dataframe thead th {\n",
              "        text-align: right;\n",
              "    }\n",
              "</style>\n",
              "<table border=\"1\" class=\"dataframe\">\n",
              "  <thead>\n",
              "    <tr style=\"text-align: right;\">\n",
              "      <th></th>\n",
              "      <th>mpg</th>\n",
              "      <th>cylinders</th>\n",
              "      <th>displacement</th>\n",
              "      <th>horsepower</th>\n",
              "      <th>weight</th>\n",
              "      <th>acceleration</th>\n",
              "      <th>model_year</th>\n",
              "      <th>origin</th>\n",
              "      <th>name</th>\n",
              "    </tr>\n",
              "  </thead>\n",
              "  <tbody>\n",
              "    <tr>\n",
              "      <th>0</th>\n",
              "      <td>18.0</td>\n",
              "      <td>8</td>\n",
              "      <td>307.0</td>\n",
              "      <td>130.0</td>\n",
              "      <td>3504</td>\n",
              "      <td>12.0</td>\n",
              "      <td>70</td>\n",
              "      <td>usa</td>\n",
              "      <td>chevrolet chevelle malibu</td>\n",
              "    </tr>\n",
              "    <tr>\n",
              "      <th>1</th>\n",
              "      <td>15.0</td>\n",
              "      <td>8</td>\n",
              "      <td>350.0</td>\n",
              "      <td>165.0</td>\n",
              "      <td>3693</td>\n",
              "      <td>11.5</td>\n",
              "      <td>70</td>\n",
              "      <td>usa</td>\n",
              "      <td>buick skylark 320</td>\n",
              "    </tr>\n",
              "    <tr>\n",
              "      <th>2</th>\n",
              "      <td>18.0</td>\n",
              "      <td>8</td>\n",
              "      <td>318.0</td>\n",
              "      <td>150.0</td>\n",
              "      <td>3436</td>\n",
              "      <td>11.0</td>\n",
              "      <td>70</td>\n",
              "      <td>usa</td>\n",
              "      <td>plymouth satellite</td>\n",
              "    </tr>\n",
              "    <tr>\n",
              "      <th>3</th>\n",
              "      <td>16.0</td>\n",
              "      <td>8</td>\n",
              "      <td>304.0</td>\n",
              "      <td>150.0</td>\n",
              "      <td>3433</td>\n",
              "      <td>12.0</td>\n",
              "      <td>70</td>\n",
              "      <td>usa</td>\n",
              "      <td>amc rebel sst</td>\n",
              "    </tr>\n",
              "    <tr>\n",
              "      <th>4</th>\n",
              "      <td>17.0</td>\n",
              "      <td>8</td>\n",
              "      <td>302.0</td>\n",
              "      <td>140.0</td>\n",
              "      <td>3449</td>\n",
              "      <td>10.5</td>\n",
              "      <td>70</td>\n",
              "      <td>usa</td>\n",
              "      <td>ford torino</td>\n",
              "    </tr>\n",
              "    <tr>\n",
              "      <th>...</th>\n",
              "      <td>...</td>\n",
              "      <td>...</td>\n",
              "      <td>...</td>\n",
              "      <td>...</td>\n",
              "      <td>...</td>\n",
              "      <td>...</td>\n",
              "      <td>...</td>\n",
              "      <td>...</td>\n",
              "      <td>...</td>\n",
              "    </tr>\n",
              "    <tr>\n",
              "      <th>393</th>\n",
              "      <td>27.0</td>\n",
              "      <td>4</td>\n",
              "      <td>140.0</td>\n",
              "      <td>86.0</td>\n",
              "      <td>2790</td>\n",
              "      <td>15.6</td>\n",
              "      <td>82</td>\n",
              "      <td>usa</td>\n",
              "      <td>ford mustang gl</td>\n",
              "    </tr>\n",
              "    <tr>\n",
              "      <th>394</th>\n",
              "      <td>44.0</td>\n",
              "      <td>4</td>\n",
              "      <td>97.0</td>\n",
              "      <td>52.0</td>\n",
              "      <td>2130</td>\n",
              "      <td>24.6</td>\n",
              "      <td>82</td>\n",
              "      <td>europe</td>\n",
              "      <td>vw pickup</td>\n",
              "    </tr>\n",
              "    <tr>\n",
              "      <th>395</th>\n",
              "      <td>32.0</td>\n",
              "      <td>4</td>\n",
              "      <td>135.0</td>\n",
              "      <td>84.0</td>\n",
              "      <td>2295</td>\n",
              "      <td>11.6</td>\n",
              "      <td>82</td>\n",
              "      <td>usa</td>\n",
              "      <td>dodge rampage</td>\n",
              "    </tr>\n",
              "    <tr>\n",
              "      <th>396</th>\n",
              "      <td>28.0</td>\n",
              "      <td>4</td>\n",
              "      <td>120.0</td>\n",
              "      <td>79.0</td>\n",
              "      <td>2625</td>\n",
              "      <td>18.6</td>\n",
              "      <td>82</td>\n",
              "      <td>usa</td>\n",
              "      <td>ford ranger</td>\n",
              "    </tr>\n",
              "    <tr>\n",
              "      <th>397</th>\n",
              "      <td>31.0</td>\n",
              "      <td>4</td>\n",
              "      <td>119.0</td>\n",
              "      <td>82.0</td>\n",
              "      <td>2720</td>\n",
              "      <td>19.4</td>\n",
              "      <td>82</td>\n",
              "      <td>usa</td>\n",
              "      <td>chevy s-10</td>\n",
              "    </tr>\n",
              "  </tbody>\n",
              "</table>\n",
              "<p>398 rows × 9 columns</p>\n",
              "</div>\n",
              "    <div class=\"colab-df-buttons\">\n",
              "\n",
              "  <div class=\"colab-df-container\">\n",
              "    <button class=\"colab-df-convert\" onclick=\"convertToInteractive('df-12ea246d-68bb-48fa-996b-a08df617221b')\"\n",
              "            title=\"Convert this dataframe to an interactive table.\"\n",
              "            style=\"display:none;\">\n",
              "\n",
              "  <svg xmlns=\"http://www.w3.org/2000/svg\" height=\"24px\" viewBox=\"0 -960 960 960\">\n",
              "    <path d=\"M120-120v-720h720v720H120Zm60-500h600v-160H180v160Zm220 220h160v-160H400v160Zm0 220h160v-160H400v160ZM180-400h160v-160H180v160Zm440 0h160v-160H620v160ZM180-180h160v-160H180v160Zm440 0h160v-160H620v160Z\"/>\n",
              "  </svg>\n",
              "    </button>\n",
              "\n",
              "  <style>\n",
              "    .colab-df-container {\n",
              "      display:flex;\n",
              "      gap: 12px;\n",
              "    }\n",
              "\n",
              "    .colab-df-convert {\n",
              "      background-color: #E8F0FE;\n",
              "      border: none;\n",
              "      border-radius: 50%;\n",
              "      cursor: pointer;\n",
              "      display: none;\n",
              "      fill: #1967D2;\n",
              "      height: 32px;\n",
              "      padding: 0 0 0 0;\n",
              "      width: 32px;\n",
              "    }\n",
              "\n",
              "    .colab-df-convert:hover {\n",
              "      background-color: #E2EBFA;\n",
              "      box-shadow: 0px 1px 2px rgba(60, 64, 67, 0.3), 0px 1px 3px 1px rgba(60, 64, 67, 0.15);\n",
              "      fill: #174EA6;\n",
              "    }\n",
              "\n",
              "    .colab-df-buttons div {\n",
              "      margin-bottom: 4px;\n",
              "    }\n",
              "\n",
              "    [theme=dark] .colab-df-convert {\n",
              "      background-color: #3B4455;\n",
              "      fill: #D2E3FC;\n",
              "    }\n",
              "\n",
              "    [theme=dark] .colab-df-convert:hover {\n",
              "      background-color: #434B5C;\n",
              "      box-shadow: 0px 1px 3px 1px rgba(0, 0, 0, 0.15);\n",
              "      filter: drop-shadow(0px 1px 2px rgba(0, 0, 0, 0.3));\n",
              "      fill: #FFFFFF;\n",
              "    }\n",
              "  </style>\n",
              "\n",
              "    <script>\n",
              "      const buttonEl =\n",
              "        document.querySelector('#df-12ea246d-68bb-48fa-996b-a08df617221b button.colab-df-convert');\n",
              "      buttonEl.style.display =\n",
              "        google.colab.kernel.accessAllowed ? 'block' : 'none';\n",
              "\n",
              "      async function convertToInteractive(key) {\n",
              "        const element = document.querySelector('#df-12ea246d-68bb-48fa-996b-a08df617221b');\n",
              "        const dataTable =\n",
              "          await google.colab.kernel.invokeFunction('convertToInteractive',\n",
              "                                                    [key], {});\n",
              "        if (!dataTable) return;\n",
              "\n",
              "        const docLinkHtml = 'Like what you see? Visit the ' +\n",
              "          '<a target=\"_blank\" href=https://colab.research.google.com/notebooks/data_table.ipynb>data table notebook</a>'\n",
              "          + ' to learn more about interactive tables.';\n",
              "        element.innerHTML = '';\n",
              "        dataTable['output_type'] = 'display_data';\n",
              "        await google.colab.output.renderOutput(dataTable, element);\n",
              "        const docLink = document.createElement('div');\n",
              "        docLink.innerHTML = docLinkHtml;\n",
              "        element.appendChild(docLink);\n",
              "      }\n",
              "    </script>\n",
              "  </div>\n",
              "\n",
              "\n",
              "<div id=\"df-a6ab9f6d-9aad-47cd-84f3-52cff204d8e4\">\n",
              "  <button class=\"colab-df-quickchart\" onclick=\"quickchart('df-a6ab9f6d-9aad-47cd-84f3-52cff204d8e4')\"\n",
              "            title=\"Suggest charts\"\n",
              "            style=\"display:none;\">\n",
              "\n",
              "<svg xmlns=\"http://www.w3.org/2000/svg\" height=\"24px\"viewBox=\"0 0 24 24\"\n",
              "     width=\"24px\">\n",
              "    <g>\n",
              "        <path d=\"M19 3H5c-1.1 0-2 .9-2 2v14c0 1.1.9 2 2 2h14c1.1 0 2-.9 2-2V5c0-1.1-.9-2-2-2zM9 17H7v-7h2v7zm4 0h-2V7h2v10zm4 0h-2v-4h2v4z\"/>\n",
              "    </g>\n",
              "</svg>\n",
              "  </button>\n",
              "\n",
              "<style>\n",
              "  .colab-df-quickchart {\n",
              "      --bg-color: #E8F0FE;\n",
              "      --fill-color: #1967D2;\n",
              "      --hover-bg-color: #E2EBFA;\n",
              "      --hover-fill-color: #174EA6;\n",
              "      --disabled-fill-color: #AAA;\n",
              "      --disabled-bg-color: #DDD;\n",
              "  }\n",
              "\n",
              "  [theme=dark] .colab-df-quickchart {\n",
              "      --bg-color: #3B4455;\n",
              "      --fill-color: #D2E3FC;\n",
              "      --hover-bg-color: #434B5C;\n",
              "      --hover-fill-color: #FFFFFF;\n",
              "      --disabled-bg-color: #3B4455;\n",
              "      --disabled-fill-color: #666;\n",
              "  }\n",
              "\n",
              "  .colab-df-quickchart {\n",
              "    background-color: var(--bg-color);\n",
              "    border: none;\n",
              "    border-radius: 50%;\n",
              "    cursor: pointer;\n",
              "    display: none;\n",
              "    fill: var(--fill-color);\n",
              "    height: 32px;\n",
              "    padding: 0;\n",
              "    width: 32px;\n",
              "  }\n",
              "\n",
              "  .colab-df-quickchart:hover {\n",
              "    background-color: var(--hover-bg-color);\n",
              "    box-shadow: 0 1px 2px rgba(60, 64, 67, 0.3), 0 1px 3px 1px rgba(60, 64, 67, 0.15);\n",
              "    fill: var(--button-hover-fill-color);\n",
              "  }\n",
              "\n",
              "  .colab-df-quickchart-complete:disabled,\n",
              "  .colab-df-quickchart-complete:disabled:hover {\n",
              "    background-color: var(--disabled-bg-color);\n",
              "    fill: var(--disabled-fill-color);\n",
              "    box-shadow: none;\n",
              "  }\n",
              "\n",
              "  .colab-df-spinner {\n",
              "    border: 2px solid var(--fill-color);\n",
              "    border-color: transparent;\n",
              "    border-bottom-color: var(--fill-color);\n",
              "    animation:\n",
              "      spin 1s steps(1) infinite;\n",
              "  }\n",
              "\n",
              "  @keyframes spin {\n",
              "    0% {\n",
              "      border-color: transparent;\n",
              "      border-bottom-color: var(--fill-color);\n",
              "      border-left-color: var(--fill-color);\n",
              "    }\n",
              "    20% {\n",
              "      border-color: transparent;\n",
              "      border-left-color: var(--fill-color);\n",
              "      border-top-color: var(--fill-color);\n",
              "    }\n",
              "    30% {\n",
              "      border-color: transparent;\n",
              "      border-left-color: var(--fill-color);\n",
              "      border-top-color: var(--fill-color);\n",
              "      border-right-color: var(--fill-color);\n",
              "    }\n",
              "    40% {\n",
              "      border-color: transparent;\n",
              "      border-right-color: var(--fill-color);\n",
              "      border-top-color: var(--fill-color);\n",
              "    }\n",
              "    60% {\n",
              "      border-color: transparent;\n",
              "      border-right-color: var(--fill-color);\n",
              "    }\n",
              "    80% {\n",
              "      border-color: transparent;\n",
              "      border-right-color: var(--fill-color);\n",
              "      border-bottom-color: var(--fill-color);\n",
              "    }\n",
              "    90% {\n",
              "      border-color: transparent;\n",
              "      border-bottom-color: var(--fill-color);\n",
              "    }\n",
              "  }\n",
              "</style>\n",
              "\n",
              "  <script>\n",
              "    async function quickchart(key) {\n",
              "      const quickchartButtonEl =\n",
              "        document.querySelector('#' + key + ' button');\n",
              "      quickchartButtonEl.disabled = true;  // To prevent multiple clicks.\n",
              "      quickchartButtonEl.classList.add('colab-df-spinner');\n",
              "      try {\n",
              "        const charts = await google.colab.kernel.invokeFunction(\n",
              "            'suggestCharts', [key], {});\n",
              "      } catch (error) {\n",
              "        console.error('Error during call to suggestCharts:', error);\n",
              "      }\n",
              "      quickchartButtonEl.classList.remove('colab-df-spinner');\n",
              "      quickchartButtonEl.classList.add('colab-df-quickchart-complete');\n",
              "    }\n",
              "    (() => {\n",
              "      let quickchartButtonEl =\n",
              "        document.querySelector('#df-a6ab9f6d-9aad-47cd-84f3-52cff204d8e4 button');\n",
              "      quickchartButtonEl.style.display =\n",
              "        google.colab.kernel.accessAllowed ? 'block' : 'none';\n",
              "    })();\n",
              "  </script>\n",
              "</div>\n",
              "\n",
              "  <div id=\"id_5686f3de-e2e2-43dd-adb0-597e060fdaf5\">\n",
              "    <style>\n",
              "      .colab-df-generate {\n",
              "        background-color: #E8F0FE;\n",
              "        border: none;\n",
              "        border-radius: 50%;\n",
              "        cursor: pointer;\n",
              "        display: none;\n",
              "        fill: #1967D2;\n",
              "        height: 32px;\n",
              "        padding: 0 0 0 0;\n",
              "        width: 32px;\n",
              "      }\n",
              "\n",
              "      .colab-df-generate:hover {\n",
              "        background-color: #E2EBFA;\n",
              "        box-shadow: 0px 1px 2px rgba(60, 64, 67, 0.3), 0px 1px 3px 1px rgba(60, 64, 67, 0.15);\n",
              "        fill: #174EA6;\n",
              "      }\n",
              "\n",
              "      [theme=dark] .colab-df-generate {\n",
              "        background-color: #3B4455;\n",
              "        fill: #D2E3FC;\n",
              "      }\n",
              "\n",
              "      [theme=dark] .colab-df-generate:hover {\n",
              "        background-color: #434B5C;\n",
              "        box-shadow: 0px 1px 3px 1px rgba(0, 0, 0, 0.15);\n",
              "        filter: drop-shadow(0px 1px 2px rgba(0, 0, 0, 0.3));\n",
              "        fill: #FFFFFF;\n",
              "      }\n",
              "    </style>\n",
              "    <button class=\"colab-df-generate\" onclick=\"generateWithVariable('vehicle_df')\"\n",
              "            title=\"Generate code using this dataframe.\"\n",
              "            style=\"display:none;\">\n",
              "\n",
              "  <svg xmlns=\"http://www.w3.org/2000/svg\" height=\"24px\"viewBox=\"0 0 24 24\"\n",
              "       width=\"24px\">\n",
              "    <path d=\"M7,19H8.4L18.45,9,17,7.55,7,17.6ZM5,21V16.75L18.45,3.32a2,2,0,0,1,2.83,0l1.4,1.43a1.91,1.91,0,0,1,.58,1.4,1.91,1.91,0,0,1-.58,1.4L9.25,21ZM18.45,9,17,7.55Zm-12,3A5.31,5.31,0,0,0,4.9,8.1,5.31,5.31,0,0,0,1,6.5,5.31,5.31,0,0,0,4.9,4.9,5.31,5.31,0,0,0,6.5,1,5.31,5.31,0,0,0,8.1,4.9,5.31,5.31,0,0,0,12,6.5,5.46,5.46,0,0,0,6.5,12Z\"/>\n",
              "  </svg>\n",
              "    </button>\n",
              "    <script>\n",
              "      (() => {\n",
              "      const buttonEl =\n",
              "        document.querySelector('#id_5686f3de-e2e2-43dd-adb0-597e060fdaf5 button.colab-df-generate');\n",
              "      buttonEl.style.display =\n",
              "        google.colab.kernel.accessAllowed ? 'block' : 'none';\n",
              "\n",
              "      buttonEl.onclick = () => {\n",
              "        google.colab.notebook.generateWithVariable('vehicle_df');\n",
              "      }\n",
              "      })();\n",
              "    </script>\n",
              "  </div>\n",
              "\n",
              "    </div>\n",
              "  </div>\n"
            ],
            "application/vnd.google.colaboratory.intrinsic+json": {
              "type": "dataframe",
              "variable_name": "vehicle_df",
              "summary": "{\n  \"name\": \"vehicle_df\",\n  \"rows\": 398,\n  \"fields\": [\n    {\n      \"column\": \"mpg\",\n      \"properties\": {\n        \"dtype\": \"number\",\n        \"std\": 7.815984312565782,\n        \"min\": 9.0,\n        \"max\": 46.6,\n        \"num_unique_values\": 129,\n        \"samples\": [\n          17.7,\n          30.5,\n          30.0\n        ],\n        \"semantic_type\": \"\",\n        \"description\": \"\"\n      }\n    },\n    {\n      \"column\": \"cylinders\",\n      \"properties\": {\n        \"dtype\": \"number\",\n        \"std\": 1,\n        \"min\": 3,\n        \"max\": 8,\n        \"num_unique_values\": 5,\n        \"samples\": [\n          4,\n          5,\n          6\n        ],\n        \"semantic_type\": \"\",\n        \"description\": \"\"\n      }\n    },\n    {\n      \"column\": \"displacement\",\n      \"properties\": {\n        \"dtype\": \"number\",\n        \"std\": 104.26983817119581,\n        \"min\": 68.0,\n        \"max\": 455.0,\n        \"num_unique_values\": 82,\n        \"samples\": [\n          122.0,\n          307.0,\n          360.0\n        ],\n        \"semantic_type\": \"\",\n        \"description\": \"\"\n      }\n    },\n    {\n      \"column\": \"horsepower\",\n      \"properties\": {\n        \"dtype\": \"number\",\n        \"std\": 38.49115993282855,\n        \"min\": 46.0,\n        \"max\": 230.0,\n        \"num_unique_values\": 93,\n        \"samples\": [\n          92.0,\n          100.0,\n          52.0\n        ],\n        \"semantic_type\": \"\",\n        \"description\": \"\"\n      }\n    },\n    {\n      \"column\": \"weight\",\n      \"properties\": {\n        \"dtype\": \"number\",\n        \"std\": 846,\n        \"min\": 1613,\n        \"max\": 5140,\n        \"num_unique_values\": 351,\n        \"samples\": [\n          3730,\n          1995,\n          2215\n        ],\n        \"semantic_type\": \"\",\n        \"description\": \"\"\n      }\n    },\n    {\n      \"column\": \"acceleration\",\n      \"properties\": {\n        \"dtype\": \"number\",\n        \"std\": 2.7576889298126757,\n        \"min\": 8.0,\n        \"max\": 24.8,\n        \"num_unique_values\": 95,\n        \"samples\": [\n          14.7,\n          18.0,\n          14.3\n        ],\n        \"semantic_type\": \"\",\n        \"description\": \"\"\n      }\n    },\n    {\n      \"column\": \"model_year\",\n      \"properties\": {\n        \"dtype\": \"number\",\n        \"std\": 3,\n        \"min\": 70,\n        \"max\": 82,\n        \"num_unique_values\": 13,\n        \"samples\": [\n          81,\n          79,\n          70\n        ],\n        \"semantic_type\": \"\",\n        \"description\": \"\"\n      }\n    },\n    {\n      \"column\": \"origin\",\n      \"properties\": {\n        \"dtype\": \"category\",\n        \"num_unique_values\": 3,\n        \"samples\": [\n          \"usa\",\n          \"japan\",\n          \"europe\"\n        ],\n        \"semantic_type\": \"\",\n        \"description\": \"\"\n      }\n    },\n    {\n      \"column\": \"name\",\n      \"properties\": {\n        \"dtype\": \"string\",\n        \"num_unique_values\": 305,\n        \"samples\": [\n          \"mazda rx-4\",\n          \"ford f108\",\n          \"buick century luxus (sw)\"\n        ],\n        \"semantic_type\": \"\",\n        \"description\": \"\"\n      }\n    }\n  ]\n}"
            }
          },
          "metadata": {},
          "execution_count": 43
        }
      ]
    },
    {
      "cell_type": "markdown",
      "source": [
        "Display the descriptive statistics of vehicle_df using its .describe() function."
      ],
      "metadata": {
        "id": "TdTCZyoWp9D1"
      }
    },
    {
      "cell_type": "code",
      "source": [
        "vehicle_df.describe()"
      ],
      "metadata": {
        "id": "RS3EivDdqSsZ",
        "colab": {
          "base_uri": "https://localhost:8080/",
          "height": 300
        },
        "outputId": "3ee099b1-f3c4-4fea-e724-fa1b934dc33f"
      },
      "execution_count": null,
      "outputs": [
        {
          "output_type": "execute_result",
          "data": {
            "text/plain": [
              "              mpg   cylinders  displacement  horsepower       weight  \\\n",
              "count  398.000000  398.000000    398.000000  392.000000   398.000000   \n",
              "mean    23.514573    5.454774    193.425879  104.469388  2970.424623   \n",
              "std      7.815984    1.701004    104.269838   38.491160   846.841774   \n",
              "min      9.000000    3.000000     68.000000   46.000000  1613.000000   \n",
              "25%     17.500000    4.000000    104.250000   75.000000  2223.750000   \n",
              "50%     23.000000    4.000000    148.500000   93.500000  2803.500000   \n",
              "75%     29.000000    8.000000    262.000000  126.000000  3608.000000   \n",
              "max     46.600000    8.000000    455.000000  230.000000  5140.000000   \n",
              "\n",
              "       acceleration  model_year  \n",
              "count    398.000000  398.000000  \n",
              "mean      15.568090   76.010050  \n",
              "std        2.757689    3.697627  \n",
              "min        8.000000   70.000000  \n",
              "25%       13.825000   73.000000  \n",
              "50%       15.500000   76.000000  \n",
              "75%       17.175000   79.000000  \n",
              "max       24.800000   82.000000  "
            ],
            "text/html": [
              "\n",
              "  <div id=\"df-98f37faa-7931-4a7e-8bc9-8b018b79014a\" class=\"colab-df-container\">\n",
              "    <div>\n",
              "<style scoped>\n",
              "    .dataframe tbody tr th:only-of-type {\n",
              "        vertical-align: middle;\n",
              "    }\n",
              "\n",
              "    .dataframe tbody tr th {\n",
              "        vertical-align: top;\n",
              "    }\n",
              "\n",
              "    .dataframe thead th {\n",
              "        text-align: right;\n",
              "    }\n",
              "</style>\n",
              "<table border=\"1\" class=\"dataframe\">\n",
              "  <thead>\n",
              "    <tr style=\"text-align: right;\">\n",
              "      <th></th>\n",
              "      <th>mpg</th>\n",
              "      <th>cylinders</th>\n",
              "      <th>displacement</th>\n",
              "      <th>horsepower</th>\n",
              "      <th>weight</th>\n",
              "      <th>acceleration</th>\n",
              "      <th>model_year</th>\n",
              "    </tr>\n",
              "  </thead>\n",
              "  <tbody>\n",
              "    <tr>\n",
              "      <th>count</th>\n",
              "      <td>398.000000</td>\n",
              "      <td>398.000000</td>\n",
              "      <td>398.000000</td>\n",
              "      <td>392.000000</td>\n",
              "      <td>398.000000</td>\n",
              "      <td>398.000000</td>\n",
              "      <td>398.000000</td>\n",
              "    </tr>\n",
              "    <tr>\n",
              "      <th>mean</th>\n",
              "      <td>23.514573</td>\n",
              "      <td>5.454774</td>\n",
              "      <td>193.425879</td>\n",
              "      <td>104.469388</td>\n",
              "      <td>2970.424623</td>\n",
              "      <td>15.568090</td>\n",
              "      <td>76.010050</td>\n",
              "    </tr>\n",
              "    <tr>\n",
              "      <th>std</th>\n",
              "      <td>7.815984</td>\n",
              "      <td>1.701004</td>\n",
              "      <td>104.269838</td>\n",
              "      <td>38.491160</td>\n",
              "      <td>846.841774</td>\n",
              "      <td>2.757689</td>\n",
              "      <td>3.697627</td>\n",
              "    </tr>\n",
              "    <tr>\n",
              "      <th>min</th>\n",
              "      <td>9.000000</td>\n",
              "      <td>3.000000</td>\n",
              "      <td>68.000000</td>\n",
              "      <td>46.000000</td>\n",
              "      <td>1613.000000</td>\n",
              "      <td>8.000000</td>\n",
              "      <td>70.000000</td>\n",
              "    </tr>\n",
              "    <tr>\n",
              "      <th>25%</th>\n",
              "      <td>17.500000</td>\n",
              "      <td>4.000000</td>\n",
              "      <td>104.250000</td>\n",
              "      <td>75.000000</td>\n",
              "      <td>2223.750000</td>\n",
              "      <td>13.825000</td>\n",
              "      <td>73.000000</td>\n",
              "    </tr>\n",
              "    <tr>\n",
              "      <th>50%</th>\n",
              "      <td>23.000000</td>\n",
              "      <td>4.000000</td>\n",
              "      <td>148.500000</td>\n",
              "      <td>93.500000</td>\n",
              "      <td>2803.500000</td>\n",
              "      <td>15.500000</td>\n",
              "      <td>76.000000</td>\n",
              "    </tr>\n",
              "    <tr>\n",
              "      <th>75%</th>\n",
              "      <td>29.000000</td>\n",
              "      <td>8.000000</td>\n",
              "      <td>262.000000</td>\n",
              "      <td>126.000000</td>\n",
              "      <td>3608.000000</td>\n",
              "      <td>17.175000</td>\n",
              "      <td>79.000000</td>\n",
              "    </tr>\n",
              "    <tr>\n",
              "      <th>max</th>\n",
              "      <td>46.600000</td>\n",
              "      <td>8.000000</td>\n",
              "      <td>455.000000</td>\n",
              "      <td>230.000000</td>\n",
              "      <td>5140.000000</td>\n",
              "      <td>24.800000</td>\n",
              "      <td>82.000000</td>\n",
              "    </tr>\n",
              "  </tbody>\n",
              "</table>\n",
              "</div>\n",
              "    <div class=\"colab-df-buttons\">\n",
              "\n",
              "  <div class=\"colab-df-container\">\n",
              "    <button class=\"colab-df-convert\" onclick=\"convertToInteractive('df-98f37faa-7931-4a7e-8bc9-8b018b79014a')\"\n",
              "            title=\"Convert this dataframe to an interactive table.\"\n",
              "            style=\"display:none;\">\n",
              "\n",
              "  <svg xmlns=\"http://www.w3.org/2000/svg\" height=\"24px\" viewBox=\"0 -960 960 960\">\n",
              "    <path d=\"M120-120v-720h720v720H120Zm60-500h600v-160H180v160Zm220 220h160v-160H400v160Zm0 220h160v-160H400v160ZM180-400h160v-160H180v160Zm440 0h160v-160H620v160ZM180-180h160v-160H180v160Zm440 0h160v-160H620v160Z\"/>\n",
              "  </svg>\n",
              "    </button>\n",
              "\n",
              "  <style>\n",
              "    .colab-df-container {\n",
              "      display:flex;\n",
              "      gap: 12px;\n",
              "    }\n",
              "\n",
              "    .colab-df-convert {\n",
              "      background-color: #E8F0FE;\n",
              "      border: none;\n",
              "      border-radius: 50%;\n",
              "      cursor: pointer;\n",
              "      display: none;\n",
              "      fill: #1967D2;\n",
              "      height: 32px;\n",
              "      padding: 0 0 0 0;\n",
              "      width: 32px;\n",
              "    }\n",
              "\n",
              "    .colab-df-convert:hover {\n",
              "      background-color: #E2EBFA;\n",
              "      box-shadow: 0px 1px 2px rgba(60, 64, 67, 0.3), 0px 1px 3px 1px rgba(60, 64, 67, 0.15);\n",
              "      fill: #174EA6;\n",
              "    }\n",
              "\n",
              "    .colab-df-buttons div {\n",
              "      margin-bottom: 4px;\n",
              "    }\n",
              "\n",
              "    [theme=dark] .colab-df-convert {\n",
              "      background-color: #3B4455;\n",
              "      fill: #D2E3FC;\n",
              "    }\n",
              "\n",
              "    [theme=dark] .colab-df-convert:hover {\n",
              "      background-color: #434B5C;\n",
              "      box-shadow: 0px 1px 3px 1px rgba(0, 0, 0, 0.15);\n",
              "      filter: drop-shadow(0px 1px 2px rgba(0, 0, 0, 0.3));\n",
              "      fill: #FFFFFF;\n",
              "    }\n",
              "  </style>\n",
              "\n",
              "    <script>\n",
              "      const buttonEl =\n",
              "        document.querySelector('#df-98f37faa-7931-4a7e-8bc9-8b018b79014a button.colab-df-convert');\n",
              "      buttonEl.style.display =\n",
              "        google.colab.kernel.accessAllowed ? 'block' : 'none';\n",
              "\n",
              "      async function convertToInteractive(key) {\n",
              "        const element = document.querySelector('#df-98f37faa-7931-4a7e-8bc9-8b018b79014a');\n",
              "        const dataTable =\n",
              "          await google.colab.kernel.invokeFunction('convertToInteractive',\n",
              "                                                    [key], {});\n",
              "        if (!dataTable) return;\n",
              "\n",
              "        const docLinkHtml = 'Like what you see? Visit the ' +\n",
              "          '<a target=\"_blank\" href=https://colab.research.google.com/notebooks/data_table.ipynb>data table notebook</a>'\n",
              "          + ' to learn more about interactive tables.';\n",
              "        element.innerHTML = '';\n",
              "        dataTable['output_type'] = 'display_data';\n",
              "        await google.colab.output.renderOutput(dataTable, element);\n",
              "        const docLink = document.createElement('div');\n",
              "        docLink.innerHTML = docLinkHtml;\n",
              "        element.appendChild(docLink);\n",
              "      }\n",
              "    </script>\n",
              "  </div>\n",
              "\n",
              "\n",
              "<div id=\"df-f355f1b1-45dc-49ec-820a-3cf577a81ffe\">\n",
              "  <button class=\"colab-df-quickchart\" onclick=\"quickchart('df-f355f1b1-45dc-49ec-820a-3cf577a81ffe')\"\n",
              "            title=\"Suggest charts\"\n",
              "            style=\"display:none;\">\n",
              "\n",
              "<svg xmlns=\"http://www.w3.org/2000/svg\" height=\"24px\"viewBox=\"0 0 24 24\"\n",
              "     width=\"24px\">\n",
              "    <g>\n",
              "        <path d=\"M19 3H5c-1.1 0-2 .9-2 2v14c0 1.1.9 2 2 2h14c1.1 0 2-.9 2-2V5c0-1.1-.9-2-2-2zM9 17H7v-7h2v7zm4 0h-2V7h2v10zm4 0h-2v-4h2v4z\"/>\n",
              "    </g>\n",
              "</svg>\n",
              "  </button>\n",
              "\n",
              "<style>\n",
              "  .colab-df-quickchart {\n",
              "      --bg-color: #E8F0FE;\n",
              "      --fill-color: #1967D2;\n",
              "      --hover-bg-color: #E2EBFA;\n",
              "      --hover-fill-color: #174EA6;\n",
              "      --disabled-fill-color: #AAA;\n",
              "      --disabled-bg-color: #DDD;\n",
              "  }\n",
              "\n",
              "  [theme=dark] .colab-df-quickchart {\n",
              "      --bg-color: #3B4455;\n",
              "      --fill-color: #D2E3FC;\n",
              "      --hover-bg-color: #434B5C;\n",
              "      --hover-fill-color: #FFFFFF;\n",
              "      --disabled-bg-color: #3B4455;\n",
              "      --disabled-fill-color: #666;\n",
              "  }\n",
              "\n",
              "  .colab-df-quickchart {\n",
              "    background-color: var(--bg-color);\n",
              "    border: none;\n",
              "    border-radius: 50%;\n",
              "    cursor: pointer;\n",
              "    display: none;\n",
              "    fill: var(--fill-color);\n",
              "    height: 32px;\n",
              "    padding: 0;\n",
              "    width: 32px;\n",
              "  }\n",
              "\n",
              "  .colab-df-quickchart:hover {\n",
              "    background-color: var(--hover-bg-color);\n",
              "    box-shadow: 0 1px 2px rgba(60, 64, 67, 0.3), 0 1px 3px 1px rgba(60, 64, 67, 0.15);\n",
              "    fill: var(--button-hover-fill-color);\n",
              "  }\n",
              "\n",
              "  .colab-df-quickchart-complete:disabled,\n",
              "  .colab-df-quickchart-complete:disabled:hover {\n",
              "    background-color: var(--disabled-bg-color);\n",
              "    fill: var(--disabled-fill-color);\n",
              "    box-shadow: none;\n",
              "  }\n",
              "\n",
              "  .colab-df-spinner {\n",
              "    border: 2px solid var(--fill-color);\n",
              "    border-color: transparent;\n",
              "    border-bottom-color: var(--fill-color);\n",
              "    animation:\n",
              "      spin 1s steps(1) infinite;\n",
              "  }\n",
              "\n",
              "  @keyframes spin {\n",
              "    0% {\n",
              "      border-color: transparent;\n",
              "      border-bottom-color: var(--fill-color);\n",
              "      border-left-color: var(--fill-color);\n",
              "    }\n",
              "    20% {\n",
              "      border-color: transparent;\n",
              "      border-left-color: var(--fill-color);\n",
              "      border-top-color: var(--fill-color);\n",
              "    }\n",
              "    30% {\n",
              "      border-color: transparent;\n",
              "      border-left-color: var(--fill-color);\n",
              "      border-top-color: var(--fill-color);\n",
              "      border-right-color: var(--fill-color);\n",
              "    }\n",
              "    40% {\n",
              "      border-color: transparent;\n",
              "      border-right-color: var(--fill-color);\n",
              "      border-top-color: var(--fill-color);\n",
              "    }\n",
              "    60% {\n",
              "      border-color: transparent;\n",
              "      border-right-color: var(--fill-color);\n",
              "    }\n",
              "    80% {\n",
              "      border-color: transparent;\n",
              "      border-right-color: var(--fill-color);\n",
              "      border-bottom-color: var(--fill-color);\n",
              "    }\n",
              "    90% {\n",
              "      border-color: transparent;\n",
              "      border-bottom-color: var(--fill-color);\n",
              "    }\n",
              "  }\n",
              "</style>\n",
              "\n",
              "  <script>\n",
              "    async function quickchart(key) {\n",
              "      const quickchartButtonEl =\n",
              "        document.querySelector('#' + key + ' button');\n",
              "      quickchartButtonEl.disabled = true;  // To prevent multiple clicks.\n",
              "      quickchartButtonEl.classList.add('colab-df-spinner');\n",
              "      try {\n",
              "        const charts = await google.colab.kernel.invokeFunction(\n",
              "            'suggestCharts', [key], {});\n",
              "      } catch (error) {\n",
              "        console.error('Error during call to suggestCharts:', error);\n",
              "      }\n",
              "      quickchartButtonEl.classList.remove('colab-df-spinner');\n",
              "      quickchartButtonEl.classList.add('colab-df-quickchart-complete');\n",
              "    }\n",
              "    (() => {\n",
              "      let quickchartButtonEl =\n",
              "        document.querySelector('#df-f355f1b1-45dc-49ec-820a-3cf577a81ffe button');\n",
              "      quickchartButtonEl.style.display =\n",
              "        google.colab.kernel.accessAllowed ? 'block' : 'none';\n",
              "    })();\n",
              "  </script>\n",
              "</div>\n",
              "\n",
              "    </div>\n",
              "  </div>\n"
            ],
            "application/vnd.google.colaboratory.intrinsic+json": {
              "type": "dataframe",
              "summary": "{\n  \"name\": \"vehicle_df\",\n  \"rows\": 8,\n  \"fields\": [\n    {\n      \"column\": \"mpg\",\n      \"properties\": {\n        \"dtype\": \"number\",\n        \"std\": 133.37523833494922,\n        \"min\": 7.815984312565782,\n        \"max\": 398.0,\n        \"num_unique_values\": 8,\n        \"samples\": [\n          23.514572864321607,\n          23.0,\n          398.0\n        ],\n        \"semantic_type\": \"\",\n        \"description\": \"\"\n      }\n    },\n    {\n      \"column\": \"cylinders\",\n      \"properties\": {\n        \"dtype\": \"number\",\n        \"std\": 139.0071020301553,\n        \"min\": 1.7010042445332094,\n        \"max\": 398.0,\n        \"num_unique_values\": 6,\n        \"samples\": [\n          398.0,\n          5.454773869346734,\n          8.0\n        ],\n        \"semantic_type\": \"\",\n        \"description\": \"\"\n      }\n    },\n    {\n      \"column\": \"displacement\",\n      \"properties\": {\n        \"dtype\": \"number\",\n        \"std\": 143.57617465667641,\n        \"min\": 68.0,\n        \"max\": 455.0,\n        \"num_unique_values\": 8,\n        \"samples\": [\n          193.42587939698493,\n          148.5,\n          398.0\n        ],\n        \"semantic_type\": \"\",\n        \"description\": \"\"\n      }\n    },\n    {\n      \"column\": \"horsepower\",\n      \"properties\": {\n        \"dtype\": \"number\",\n        \"std\": 118.66115898346133,\n        \"min\": 38.49115993282855,\n        \"max\": 392.0,\n        \"num_unique_values\": 8,\n        \"samples\": [\n          104.46938775510205,\n          93.5,\n          392.0\n        ],\n        \"semantic_type\": \"\",\n        \"description\": \"\"\n      }\n    },\n    {\n      \"column\": \"weight\",\n      \"properties\": {\n        \"dtype\": \"number\",\n        \"std\": 1535.5522437115258,\n        \"min\": 398.0,\n        \"max\": 5140.0,\n        \"num_unique_values\": 8,\n        \"samples\": [\n          2970.424623115578,\n          2803.5,\n          398.0\n        ],\n        \"semantic_type\": \"\",\n        \"description\": \"\"\n      }\n    },\n    {\n      \"column\": \"acceleration\",\n      \"properties\": {\n        \"dtype\": \"number\",\n        \"std\": 135.93788360342714,\n        \"min\": 2.7576889298126757,\n        \"max\": 398.0,\n        \"num_unique_values\": 8,\n        \"samples\": [\n          15.568090452261307,\n          15.5,\n          398.0\n        ],\n        \"semantic_type\": \"\",\n        \"description\": \"\"\n      }\n    },\n    {\n      \"column\": \"model_year\",\n      \"properties\": {\n        \"dtype\": \"number\",\n        \"std\": 120.24225119423292,\n        \"min\": 3.697626646732623,\n        \"max\": 398.0,\n        \"num_unique_values\": 8,\n        \"samples\": [\n          76.01005025125629,\n          76.0,\n          398.0\n        ],\n        \"semantic_type\": \"\",\n        \"description\": \"\"\n      }\n    }\n  ]\n}"
            }
          },
          "metadata": {},
          "execution_count": 44
        }
      ]
    },
    {
      "cell_type": "markdown",
      "source": [
        "Display only the model_year column in vehicle_df."
      ],
      "metadata": {
        "id": "5ZbjZlr1sH68"
      }
    },
    {
      "cell_type": "code",
      "source": [
        "print(vehicle_df['model_year'])"
      ],
      "metadata": {
        "id": "wGi115NvsRCA",
        "colab": {
          "base_uri": "https://localhost:8080/"
        },
        "outputId": "55f1d324-876a-4817-cdbb-d5330f5fc16d"
      },
      "execution_count": null,
      "outputs": [
        {
          "output_type": "stream",
          "name": "stdout",
          "text": [
            "0      70\n",
            "1      70\n",
            "2      70\n",
            "3      70\n",
            "4      70\n",
            "       ..\n",
            "393    82\n",
            "394    82\n",
            "395    82\n",
            "396    82\n",
            "397    82\n",
            "Name: model_year, Length: 398, dtype: int64\n"
          ]
        }
      ]
    },
    {
      "cell_type": "markdown",
      "source": [
        "Display all countries of origin in vehicle_df using the .unique() function."
      ],
      "metadata": {
        "id": "X9PiC0tNqpuO"
      }
    },
    {
      "cell_type": "code",
      "source": [
        "print(vehicle_df['origin'].unique())"
      ],
      "metadata": {
        "id": "M45C39j2sBxX",
        "colab": {
          "base_uri": "https://localhost:8080/"
        },
        "outputId": "283f7554-3739-452d-f444-90bc9b16054e"
      },
      "execution_count": null,
      "outputs": [
        {
          "output_type": "stream",
          "name": "stdout",
          "text": [
            "['usa' 'japan' 'europe']\n"
          ]
        }
      ]
    },
    {
      "cell_type": "markdown",
      "source": [
        "Display the subset of vehicle_df containing only vehicles with eight cylinders."
      ],
      "metadata": {
        "id": "9tdjjhxWsWCl"
      }
    },
    {
      "cell_type": "code",
      "source": [
        "print(vehicle_df[vehicle_df['cylinders'] == 8])"
      ],
      "metadata": {
        "id": "bpU__tv7snYo",
        "colab": {
          "base_uri": "https://localhost:8080/"
        },
        "outputId": "93a4fe23-9544-44c9-e7f2-034846c424c7"
      },
      "execution_count": null,
      "outputs": [
        {
          "output_type": "stream",
          "name": "stdout",
          "text": [
            "      mpg  cylinders  displacement  horsepower  weight  acceleration  \\\n",
            "0    18.0          8         307.0       130.0    3504          12.0   \n",
            "1    15.0          8         350.0       165.0    3693          11.5   \n",
            "2    18.0          8         318.0       150.0    3436          11.0   \n",
            "3    16.0          8         304.0       150.0    3433          12.0   \n",
            "4    17.0          8         302.0       140.0    3449          10.5   \n",
            "..    ...        ...           ...         ...     ...           ...   \n",
            "291  19.2          8         267.0       125.0    3605          15.0   \n",
            "292  18.5          8         360.0       150.0    3940          13.0   \n",
            "298  23.0          8         350.0       125.0    3900          17.4   \n",
            "300  23.9          8         260.0        90.0    3420          22.2   \n",
            "364  26.6          8         350.0       105.0    3725          19.0   \n",
            "\n",
            "     model_year origin                                  name  \n",
            "0            70    usa             chevrolet chevelle malibu  \n",
            "1            70    usa                     buick skylark 320  \n",
            "2            70    usa                    plymouth satellite  \n",
            "3            70    usa                         amc rebel sst  \n",
            "4            70    usa                           ford torino  \n",
            "..          ...    ...                                   ...  \n",
            "291          79    usa         chevrolet malibu classic (sw)  \n",
            "292          79    usa  chrysler lebaron town @ country (sw)  \n",
            "298          79    usa                     cadillac eldorado  \n",
            "300          79    usa     oldsmobile cutlass salon brougham  \n",
            "364          81    usa                 oldsmobile cutlass ls  \n",
            "\n",
            "[103 rows x 9 columns]\n"
          ]
        }
      ]
    },
    {
      "cell_type": "markdown",
      "source": [
        "Display the subset of vehicle_df containing only vehicles getting more than 40 MPG.\n"
      ],
      "metadata": {
        "id": "b1zABBXrs0-T"
      }
    },
    {
      "cell_type": "code",
      "source": [
        "print(vehicle_df[vehicle_df['mpg'] > 40])"
      ],
      "metadata": {
        "id": "k_Xyl353suzr",
        "colab": {
          "base_uri": "https://localhost:8080/"
        },
        "outputId": "0cfb965a-8c6d-4d4c-a142-daeb6376e0b3"
      },
      "execution_count": null,
      "outputs": [
        {
          "output_type": "stream",
          "name": "stdout",
          "text": [
            "      mpg  cylinders  displacement  horsepower  weight  acceleration  \\\n",
            "244  43.1          4          90.0        48.0    1985          21.5   \n",
            "309  41.5          4          98.0        76.0    2144          14.7   \n",
            "322  46.6          4          86.0        65.0    2110          17.9   \n",
            "324  40.8          4          85.0        65.0    2110          19.2   \n",
            "325  44.3          4          90.0        48.0    2085          21.7   \n",
            "326  43.4          4          90.0        48.0    2335          23.7   \n",
            "329  44.6          4          91.0        67.0    1850          13.8   \n",
            "330  40.9          4          85.0         NaN    1835          17.3   \n",
            "394  44.0          4          97.0        52.0    2130          24.6   \n",
            "\n",
            "     model_year  origin                             name  \n",
            "244          78  europe  volkswagen rabbit custom diesel  \n",
            "309          80  europe                        vw rabbit  \n",
            "322          80   japan                        mazda glc  \n",
            "324          80   japan                       datsun 210  \n",
            "325          80  europe             vw rabbit c (diesel)  \n",
            "326          80  europe               vw dasher (diesel)  \n",
            "329          80   japan              honda civic 1500 gl  \n",
            "330          80  europe             renault lecar deluxe  \n",
            "394          82  europe                        vw pickup  \n"
          ]
        }
      ]
    },
    {
      "cell_type": "markdown",
      "source": [
        "Display the subset of vehicle_df containing only vehicles weighing more than 3000 pounds AND getting under 20 MPG."
      ],
      "metadata": {
        "id": "A3Zfbm_itSgz"
      }
    },
    {
      "cell_type": "code",
      "source": [
        "print(vehicle_df[(vehicle_df['weight'] > 3000) & (vehicle_df['mpg'] < 20)])"
      ],
      "metadata": {
        "id": "iMMD0ge3tLRN",
        "colab": {
          "base_uri": "https://localhost:8080/"
        },
        "outputId": "30dd1daa-0cb0-4e46-8e92-a8d7d282c333"
      },
      "execution_count": null,
      "outputs": [
        {
          "output_type": "stream",
          "name": "stdout",
          "text": [
            "      mpg  cylinders  displacement  horsepower  weight  acceleration  \\\n",
            "0    18.0          8         307.0       130.0    3504          12.0   \n",
            "1    15.0          8         350.0       165.0    3693          11.5   \n",
            "2    18.0          8         318.0       150.0    3436          11.0   \n",
            "3    16.0          8         304.0       150.0    3433          12.0   \n",
            "4    17.0          8         302.0       140.0    3449          10.5   \n",
            "..    ...        ...           ...         ...     ...           ...   \n",
            "290  15.5          8         351.0       142.0    4054          14.3   \n",
            "291  19.2          8         267.0       125.0    3605          15.0   \n",
            "292  18.5          8         360.0       150.0    3940          13.0   \n",
            "316  19.1          6         225.0        90.0    3381          18.7   \n",
            "366  17.6          6         225.0        85.0    3465          16.6   \n",
            "\n",
            "     model_year origin                                  name  \n",
            "0            70    usa             chevrolet chevelle malibu  \n",
            "1            70    usa                     buick skylark 320  \n",
            "2            70    usa                    plymouth satellite  \n",
            "3            70    usa                         amc rebel sst  \n",
            "4            70    usa                           ford torino  \n",
            "..          ...    ...                                   ...  \n",
            "290          79    usa              ford country squire (sw)  \n",
            "291          79    usa         chevrolet malibu classic (sw)  \n",
            "292          79    usa  chrysler lebaron town @ country (sw)  \n",
            "316          80    usa                           dodge aspen  \n",
            "366          81    usa                chrysler lebaron salon  \n",
            "\n",
            "[137 rows x 9 columns]\n"
          ]
        }
      ]
    },
    {
      "cell_type": "markdown",
      "source": [
        "Using Matplotlib, plot mpg vs. weight on a scatter plot. Give your axes appropriate labels and include a descriptive title."
      ],
      "metadata": {
        "id": "nABID-STt8AQ"
      }
    },
    {
      "cell_type": "code",
      "source": [
        "plt.scatter(vehicle_df['weight'], vehicle_df['mpg'], alpha=0.7)\n",
        "plt.title('Miles Per Gallon vs. Vehicle Weight')\n",
        "plt.xlabel('Weight (lbs)')\n",
        "plt.ylabel('Miles Per Gallon (MPG)')\n",
        "plt.grid(True)\n",
        "plt.show()"
      ],
      "metadata": {
        "id": "nkJDE6jYt5LC",
        "colab": {
          "base_uri": "https://localhost:8080/",
          "height": 472
        },
        "outputId": "51c80a06-656d-4a36-f41e-b854aa7740e5"
      },
      "execution_count": null,
      "outputs": [
        {
          "output_type": "display_data",
          "data": {
            "text/plain": [
              "<Figure size 640x480 with 1 Axes>"
            ],
            "image/png": "[encoded data removed]"
          },
          "metadata": {}
        }
      ]
    },
    {
      "cell_type": "markdown",
      "source": [
        "Using matplotlib, generate a bar plot of the number of vehicles produced during each year."
      ],
      "metadata": {
        "id": "_qMA-I5Juh1h"
      }
    },
    {
      "cell_type": "code",
      "source": [
        "vehicle_counts = vehicle_df['model_year'].value_counts().sort_index()\n",
        "plt.bar(vehicle_counts.index, vehicle_counts.values, color='skyblue')\n",
        "plt.title('Number of Vehicles Produced by Model Year')\n",
        "plt.xlabel('Model Year')\n",
        "plt.ylabel('Number of Vehicles')\n",
        "plt.xticks(vehicle_counts.index)\n",
        "plt.grid(axis='y', linestyle='--', alpha=0.7)\n",
        "plt.show()"
      ],
      "metadata": {
        "id": "Vv5X-Gjhuu8S",
        "colab": {
          "base_uri": "https://localhost:8080/",
          "height": 472
        },
        "outputId": "3a4de70b-76ec-405b-ff35-e797b73eddd1"
      },
      "execution_count": null,
      "outputs": [
        {
          "output_type": "display_data",
          "data": {
            "text/plain": [
              "<Figure size 640x480 with 1 Axes>"
            ],
            "image/png": "[encoded data removed]"
          },
          "metadata": {}
        }
      ]
    }
  ]
}